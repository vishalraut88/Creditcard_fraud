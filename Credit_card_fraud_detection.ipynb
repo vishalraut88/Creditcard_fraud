{
 "cells": [
  {
   "cell_type": "code",
   "execution_count": 9,
   "id": "942cf06a",
   "metadata": {},
   "outputs": [],
   "source": [
    "import seaborn "
   ]
  },
  {
   "cell_type": "code",
   "execution_count": 10,
   "id": "ce6f8ea5",
   "metadata": {},
   "outputs": [],
   "source": [
    "import pandas as pd\n",
    "from sklearn.model_selection import train_test_split\n",
    "from utils.preprocessing import preprocessing \n",
    "from utils.utils import feature_importances,initial_hyperparam_search,cast_params_to_proper_types,lgb_f1_score,feature_imp_lgbm\n",
    "import seaborn as sns\n",
    "from matplotlib import pyplot \n",
    "from hyperopt import hp, tpe, Trials\n",
    "import numpy as np"
   ]
  },
  {
   "cell_type": "code",
   "execution_count": 11,
   "id": "5717f023",
   "metadata": {},
   "outputs": [],
   "source": [
    "prepos= preprocessing()"
   ]
  },
  {
   "cell_type": "code",
   "execution_count": 12,
   "id": "ed0d450e",
   "metadata": {
    "scrolled": true
   },
   "outputs": [],
   "source": [
    "df_org_data = prepos.read_data(\"creditcard.csv\")"
   ]
  },
  {
   "cell_type": "markdown",
   "id": "4dde11aa",
   "metadata": {},
   "source": [
    "#### Missing data check"
   ]
  },
  {
   "cell_type": "code",
   "execution_count": 13,
   "id": "34396559",
   "metadata": {},
   "outputs": [
    {
     "data": {
      "text/html": [
       "<div>\n",
       "<style scoped>\n",
       "    .dataframe tbody tr th:only-of-type {\n",
       "        vertical-align: middle;\n",
       "    }\n",
       "\n",
       "    .dataframe tbody tr th {\n",
       "        vertical-align: top;\n",
       "    }\n",
       "\n",
       "    .dataframe thead th {\n",
       "        text-align: right;\n",
       "    }\n",
       "</style>\n",
       "<table border=\"1\" class=\"dataframe\">\n",
       "  <thead>\n",
       "    <tr style=\"text-align: right;\">\n",
       "      <th></th>\n",
       "      <th>Missing Values</th>\n",
       "      <th>Percentage of missing values</th>\n",
       "    </tr>\n",
       "  </thead>\n",
       "  <tbody>\n",
       "    <tr>\n",
       "      <th>Time</th>\n",
       "      <td>0</td>\n",
       "      <td>0.0</td>\n",
       "    </tr>\n",
       "    <tr>\n",
       "      <th>V1</th>\n",
       "      <td>0</td>\n",
       "      <td>0.0</td>\n",
       "    </tr>\n",
       "    <tr>\n",
       "      <th>V2</th>\n",
       "      <td>0</td>\n",
       "      <td>0.0</td>\n",
       "    </tr>\n",
       "    <tr>\n",
       "      <th>V3</th>\n",
       "      <td>0</td>\n",
       "      <td>0.0</td>\n",
       "    </tr>\n",
       "    <tr>\n",
       "      <th>V4</th>\n",
       "      <td>0</td>\n",
       "      <td>0.0</td>\n",
       "    </tr>\n",
       "    <tr>\n",
       "      <th>V5</th>\n",
       "      <td>0</td>\n",
       "      <td>0.0</td>\n",
       "    </tr>\n",
       "    <tr>\n",
       "      <th>V6</th>\n",
       "      <td>0</td>\n",
       "      <td>0.0</td>\n",
       "    </tr>\n",
       "    <tr>\n",
       "      <th>V7</th>\n",
       "      <td>0</td>\n",
       "      <td>0.0</td>\n",
       "    </tr>\n",
       "    <tr>\n",
       "      <th>V8</th>\n",
       "      <td>0</td>\n",
       "      <td>0.0</td>\n",
       "    </tr>\n",
       "    <tr>\n",
       "      <th>V9</th>\n",
       "      <td>0</td>\n",
       "      <td>0.0</td>\n",
       "    </tr>\n",
       "    <tr>\n",
       "      <th>V10</th>\n",
       "      <td>0</td>\n",
       "      <td>0.0</td>\n",
       "    </tr>\n",
       "    <tr>\n",
       "      <th>V11</th>\n",
       "      <td>0</td>\n",
       "      <td>0.0</td>\n",
       "    </tr>\n",
       "    <tr>\n",
       "      <th>V12</th>\n",
       "      <td>0</td>\n",
       "      <td>0.0</td>\n",
       "    </tr>\n",
       "    <tr>\n",
       "      <th>V13</th>\n",
       "      <td>0</td>\n",
       "      <td>0.0</td>\n",
       "    </tr>\n",
       "    <tr>\n",
       "      <th>V14</th>\n",
       "      <td>0</td>\n",
       "      <td>0.0</td>\n",
       "    </tr>\n",
       "    <tr>\n",
       "      <th>V15</th>\n",
       "      <td>0</td>\n",
       "      <td>0.0</td>\n",
       "    </tr>\n",
       "    <tr>\n",
       "      <th>V16</th>\n",
       "      <td>0</td>\n",
       "      <td>0.0</td>\n",
       "    </tr>\n",
       "    <tr>\n",
       "      <th>V17</th>\n",
       "      <td>0</td>\n",
       "      <td>0.0</td>\n",
       "    </tr>\n",
       "    <tr>\n",
       "      <th>V18</th>\n",
       "      <td>0</td>\n",
       "      <td>0.0</td>\n",
       "    </tr>\n",
       "    <tr>\n",
       "      <th>V19</th>\n",
       "      <td>0</td>\n",
       "      <td>0.0</td>\n",
       "    </tr>\n",
       "    <tr>\n",
       "      <th>V20</th>\n",
       "      <td>0</td>\n",
       "      <td>0.0</td>\n",
       "    </tr>\n",
       "    <tr>\n",
       "      <th>V21</th>\n",
       "      <td>0</td>\n",
       "      <td>0.0</td>\n",
       "    </tr>\n",
       "    <tr>\n",
       "      <th>V22</th>\n",
       "      <td>0</td>\n",
       "      <td>0.0</td>\n",
       "    </tr>\n",
       "    <tr>\n",
       "      <th>V23</th>\n",
       "      <td>0</td>\n",
       "      <td>0.0</td>\n",
       "    </tr>\n",
       "    <tr>\n",
       "      <th>V24</th>\n",
       "      <td>0</td>\n",
       "      <td>0.0</td>\n",
       "    </tr>\n",
       "    <tr>\n",
       "      <th>V25</th>\n",
       "      <td>0</td>\n",
       "      <td>0.0</td>\n",
       "    </tr>\n",
       "    <tr>\n",
       "      <th>V26</th>\n",
       "      <td>0</td>\n",
       "      <td>0.0</td>\n",
       "    </tr>\n",
       "    <tr>\n",
       "      <th>V27</th>\n",
       "      <td>0</td>\n",
       "      <td>0.0</td>\n",
       "    </tr>\n",
       "    <tr>\n",
       "      <th>V28</th>\n",
       "      <td>0</td>\n",
       "      <td>0.0</td>\n",
       "    </tr>\n",
       "    <tr>\n",
       "      <th>Amount</th>\n",
       "      <td>0</td>\n",
       "      <td>0.0</td>\n",
       "    </tr>\n",
       "    <tr>\n",
       "      <th>Class</th>\n",
       "      <td>0</td>\n",
       "      <td>0.0</td>\n",
       "    </tr>\n",
       "  </tbody>\n",
       "</table>\n",
       "</div>"
      ],
      "text/plain": [
       "        Missing Values  Percentage of missing values\n",
       "Time                 0                           0.0\n",
       "V1                   0                           0.0\n",
       "V2                   0                           0.0\n",
       "V3                   0                           0.0\n",
       "V4                   0                           0.0\n",
       "V5                   0                           0.0\n",
       "V6                   0                           0.0\n",
       "V7                   0                           0.0\n",
       "V8                   0                           0.0\n",
       "V9                   0                           0.0\n",
       "V10                  0                           0.0\n",
       "V11                  0                           0.0\n",
       "V12                  0                           0.0\n",
       "V13                  0                           0.0\n",
       "V14                  0                           0.0\n",
       "V15                  0                           0.0\n",
       "V16                  0                           0.0\n",
       "V17                  0                           0.0\n",
       "V18                  0                           0.0\n",
       "V19                  0                           0.0\n",
       "V20                  0                           0.0\n",
       "V21                  0                           0.0\n",
       "V22                  0                           0.0\n",
       "V23                  0                           0.0\n",
       "V24                  0                           0.0\n",
       "V25                  0                           0.0\n",
       "V26                  0                           0.0\n",
       "V27                  0                           0.0\n",
       "V28                  0                           0.0\n",
       "Amount               0                           0.0\n",
       "Class                0                           0.0"
      ]
     },
     "execution_count": 13,
     "metadata": {},
     "output_type": "execute_result"
    }
   ],
   "source": [
    "prepos.missing_values_intable(df_org_data)"
   ]
  },
  {
   "cell_type": "code",
   "execution_count": 14,
   "id": "9656dc23",
   "metadata": {},
   "outputs": [],
   "source": [
    "# df_org_data.Class.value_counts()\n",
    "# corr = df_org_data.corr()\n",
    "# sns.heatmap(corr, \n",
    "#             xticklabels=corr.columns.values,\n",
    "#             yticklabels=corr.columns.values)"
   ]
  },
  {
   "cell_type": "code",
   "execution_count": 15,
   "id": "5c5d4be9",
   "metadata": {},
   "outputs": [],
   "source": [
    "X_train_org,X_test_org,y_train_org,y_test_org=train_test_split(df_org_data,df_org_data[\"Class\"],test_size=0.2,random_state=42,stratify=df_org_data[\"Class\"])\n",
    "\n",
    "X_train,X_val,y_train,y_val=train_test_split(X_train_org,X_train_org[\"Class\"],test_size=0.2,random_state=42,stratify=X_train_org[\"Class\"])"
   ]
  },
  {
   "cell_type": "markdown",
   "id": "92fa6f10",
   "metadata": {},
   "source": [
    "### feature importances"
   ]
  },
  {
   "cell_type": "markdown",
   "id": "eda3f4e2",
   "metadata": {},
   "source": [
    " #### 1. Using statistical corelations"
   ]
  },
  {
   "cell_type": "code",
   "execution_count": 16,
   "id": "1e08ccb7",
   "metadata": {},
   "outputs": [
    {
     "name": "stdout",
     "output_type": "stream",
     "text": [
      "Removing columns: []\n",
      "['V3', 'V7', 'V10', 'V12', 'V14', 'V16', 'V17', 'Class', 'Amount']\n"
     ]
    }
   ],
   "source": [
    "fimp=feature_importances()\n",
    "X_train_feature_selection, accepted_columns,assoc_result,disallowed_columns = fimp.filter_out_features_based_on_statistical_approach(X_train,[],\"Class\")\n",
    "if('Amount' not in accepted_columns):\n",
    "    accepted_columns.append(\"Amount\")\n",
    "    X_train_feature_selection[\"Amount\"]=X_train[\"Amount\"]\n",
    "\n",
    "print(accepted_columns)"
   ]
  },
  {
   "cell_type": "code",
   "execution_count": 17,
   "id": "c0c9e2c2",
   "metadata": {},
   "outputs": [
    {
     "data": {
      "text/plain": [
       "Class     1.00\n",
       "V17       0.33\n",
       "V14       0.30\n",
       "V12       0.26\n",
       "V10       0.22\n",
       "V3        0.20\n",
       "V16       0.20\n",
       "V7        0.20\n",
       "V11       0.16\n",
       "V4        0.14\n",
       "V1        0.11\n",
       "V18       0.11\n",
       "V9        0.10\n",
       "V5        0.10\n",
       "V2        0.10\n",
       "V6        0.04\n",
       "V21       0.04\n",
       "V19       0.03\n",
       "V20       0.02\n",
       "Amount    0.01\n",
       "V24       0.01\n",
       "V28       0.01\n",
       "V27       0.01\n",
       "Time      0.01\n",
       "V13       0.01\n",
       "V8        0.01\n",
       "V23       0.00\n",
       "V25       0.00\n",
       "V26       0.00\n",
       "V22       0.00\n",
       "V15       0.00\n",
       "Name: Class, dtype: float64"
      ]
     },
     "execution_count": 17,
     "metadata": {},
     "output_type": "execute_result"
    }
   ],
   "source": [
    "assoc_result[\"Class\"].sort_values(ascending=False)"
   ]
  },
  {
   "cell_type": "markdown",
   "id": "3f3bfe97",
   "metadata": {},
   "source": [
    "##### 2. Using Lightgbm feature importance"
   ]
  },
  {
   "cell_type": "code",
   "execution_count": 18,
   "id": "5507de92",
   "metadata": {},
   "outputs": [],
   "source": [
    "from lightgbm import plot_importance\n",
    "params_scope = {\n",
    "    'learning_rate': hp.uniform('learning_rate', 0.00001, 0.1),\n",
    "    'num_leaves': hp.quniform('num_leaves', 2, 15, 1),\n",
    "    'n_estimators': hp.quniform('n_estimators', 10, 100, 10),\n",
    "#     'n_estimators': list(range(10, 500, 50)),\n",
    "    'scale_pos_weight': hp.quniform('scale_pos_weight', 100, 1000, 50),\n",
    "#     'scale_pos_weight':list(range(0, 800, 50)),\n",
    "    #'reg_alpha': hp.uniform('reg_alpha', 0.00, 10.0),\n",
    "    'reg_lambda ': hp.uniform('reg_lambda', 10.00, 100.0),\n",
    "    'pos_bagging_fraction': hp.uniform('pos_bagging_fraction', 0.0, 1.0),\n",
    "    'max_bin': hp.quniform('max_bin', 16, 256, 16)\n",
    "                            }"
   ]
  },
  {
   "cell_type": "code",
   "execution_count": 19,
   "id": "82146d52",
   "metadata": {},
   "outputs": [],
   "source": [
    "X_train_Feat = X_train.drop(\"Class\",axis=1)"
   ]
  },
  {
   "cell_type": "code",
   "execution_count": 20,
   "id": "de65905b",
   "metadata": {},
   "outputs": [
    {
     "name": "stdout",
     "output_type": "stream",
     "text": [
      "\n"
     ]
    },
    {
     "name": "stderr",
     "output_type": "stream",
     "text": [
      "C:\\Users\\vishalra\\Anaconda3\\envs\\fraud_detection\\lib\\site-packages\\lightgbm\\sklearn.py:736: UserWarning: 'verbose' argument is deprecated and will be removed in a future release of LightGBM. Pass 'log_evaluation()' callback via 'callbacks' argument instead.\n",
      "  _log_warning(\"'verbose' argument is deprecated and will be removed in a future release of LightGBM. \"\n"
     ]
    }
   ],
   "source": [
    "model,initial_params = feature_imp_lgbm(X_train_Feat,y_train,X_val,y_val,params_scope)\n",
    "feature_imp_df = pd.DataFrame(data={'feature_name':model.feature_name_,\n",
    "                   'feature_importance':model.feature_importances_},\n",
    "            \n",
    "            )\n",
    "feature_imp_df.sort_values(by=\"feature_importance\",ascending=False,inplace=True)"
   ]
  },
  {
   "cell_type": "code",
   "execution_count": 21,
   "id": "5d46f57c",
   "metadata": {},
   "outputs": [
    {
     "data": {
      "text/plain": [
       "{'learning_rate': 0.010781653730714127,\n",
       " 'max_bin': 80.0,\n",
       " 'n_estimators': 70.0,\n",
       " 'num_leaves': 3.0,\n",
       " 'pos_bagging_fraction': 0.6825354483939322,\n",
       " 'reg_lambda': 79.60297438068501,\n",
       " 'scale_pos_weight': 150.0}"
      ]
     },
     "execution_count": 21,
     "metadata": {},
     "output_type": "execute_result"
    }
   ],
   "source": [
    "initial_params"
   ]
  },
  {
   "cell_type": "code",
   "execution_count": 22,
   "id": "df508434",
   "metadata": {},
   "outputs": [
    {
     "data": {
      "text/html": [
       "<div>\n",
       "<style scoped>\n",
       "    .dataframe tbody tr th:only-of-type {\n",
       "        vertical-align: middle;\n",
       "    }\n",
       "\n",
       "    .dataframe tbody tr th {\n",
       "        vertical-align: top;\n",
       "    }\n",
       "\n",
       "    .dataframe thead th {\n",
       "        text-align: right;\n",
       "    }\n",
       "</style>\n",
       "<table border=\"1\" class=\"dataframe\">\n",
       "  <thead>\n",
       "    <tr style=\"text-align: right;\">\n",
       "      <th></th>\n",
       "      <th>feature_name</th>\n",
       "      <th>feature_importance</th>\n",
       "    </tr>\n",
       "  </thead>\n",
       "  <tbody>\n",
       "    <tr>\n",
       "      <th>4</th>\n",
       "      <td>V4</td>\n",
       "      <td>32</td>\n",
       "    </tr>\n",
       "    <tr>\n",
       "      <th>14</th>\n",
       "      <td>V14</td>\n",
       "      <td>27</td>\n",
       "    </tr>\n",
       "    <tr>\n",
       "      <th>12</th>\n",
       "      <td>V12</td>\n",
       "      <td>17</td>\n",
       "    </tr>\n",
       "    <tr>\n",
       "      <th>17</th>\n",
       "      <td>V17</td>\n",
       "      <td>15</td>\n",
       "    </tr>\n",
       "    <tr>\n",
       "      <th>19</th>\n",
       "      <td>V19</td>\n",
       "      <td>12</td>\n",
       "    </tr>\n",
       "    <tr>\n",
       "      <th>7</th>\n",
       "      <td>V7</td>\n",
       "      <td>11</td>\n",
       "    </tr>\n",
       "    <tr>\n",
       "      <th>29</th>\n",
       "      <td>Amount</td>\n",
       "      <td>8</td>\n",
       "    </tr>\n",
       "    <tr>\n",
       "      <th>8</th>\n",
       "      <td>V8</td>\n",
       "      <td>6</td>\n",
       "    </tr>\n",
       "    <tr>\n",
       "      <th>16</th>\n",
       "      <td>V16</td>\n",
       "      <td>3</td>\n",
       "    </tr>\n",
       "    <tr>\n",
       "      <th>26</th>\n",
       "      <td>V26</td>\n",
       "      <td>2</td>\n",
       "    </tr>\n",
       "    <tr>\n",
       "      <th>3</th>\n",
       "      <td>V3</td>\n",
       "      <td>2</td>\n",
       "    </tr>\n",
       "    <tr>\n",
       "      <th>6</th>\n",
       "      <td>V6</td>\n",
       "      <td>1</td>\n",
       "    </tr>\n",
       "    <tr>\n",
       "      <th>22</th>\n",
       "      <td>V22</td>\n",
       "      <td>1</td>\n",
       "    </tr>\n",
       "    <tr>\n",
       "      <th>11</th>\n",
       "      <td>V11</td>\n",
       "      <td>1</td>\n",
       "    </tr>\n",
       "    <tr>\n",
       "      <th>13</th>\n",
       "      <td>V13</td>\n",
       "      <td>1</td>\n",
       "    </tr>\n",
       "    <tr>\n",
       "      <th>1</th>\n",
       "      <td>V1</td>\n",
       "      <td>1</td>\n",
       "    </tr>\n",
       "    <tr>\n",
       "      <th>24</th>\n",
       "      <td>V24</td>\n",
       "      <td>0</td>\n",
       "    </tr>\n",
       "    <tr>\n",
       "      <th>25</th>\n",
       "      <td>V25</td>\n",
       "      <td>0</td>\n",
       "    </tr>\n",
       "    <tr>\n",
       "      <th>27</th>\n",
       "      <td>V27</td>\n",
       "      <td>0</td>\n",
       "    </tr>\n",
       "    <tr>\n",
       "      <th>28</th>\n",
       "      <td>V28</td>\n",
       "      <td>0</td>\n",
       "    </tr>\n",
       "    <tr>\n",
       "      <th>23</th>\n",
       "      <td>V23</td>\n",
       "      <td>0</td>\n",
       "    </tr>\n",
       "    <tr>\n",
       "      <th>0</th>\n",
       "      <td>Time</td>\n",
       "      <td>0</td>\n",
       "    </tr>\n",
       "    <tr>\n",
       "      <th>21</th>\n",
       "      <td>V21</td>\n",
       "      <td>0</td>\n",
       "    </tr>\n",
       "    <tr>\n",
       "      <th>20</th>\n",
       "      <td>V20</td>\n",
       "      <td>0</td>\n",
       "    </tr>\n",
       "    <tr>\n",
       "      <th>18</th>\n",
       "      <td>V18</td>\n",
       "      <td>0</td>\n",
       "    </tr>\n",
       "    <tr>\n",
       "      <th>10</th>\n",
       "      <td>V10</td>\n",
       "      <td>0</td>\n",
       "    </tr>\n",
       "    <tr>\n",
       "      <th>9</th>\n",
       "      <td>V9</td>\n",
       "      <td>0</td>\n",
       "    </tr>\n",
       "    <tr>\n",
       "      <th>5</th>\n",
       "      <td>V5</td>\n",
       "      <td>0</td>\n",
       "    </tr>\n",
       "    <tr>\n",
       "      <th>2</th>\n",
       "      <td>V2</td>\n",
       "      <td>0</td>\n",
       "    </tr>\n",
       "    <tr>\n",
       "      <th>15</th>\n",
       "      <td>V15</td>\n",
       "      <td>0</td>\n",
       "    </tr>\n",
       "  </tbody>\n",
       "</table>\n",
       "</div>"
      ],
      "text/plain": [
       "   feature_name  feature_importance\n",
       "4            V4                  32\n",
       "14          V14                  27\n",
       "12          V12                  17\n",
       "17          V17                  15\n",
       "19          V19                  12\n",
       "7            V7                  11\n",
       "29       Amount                   8\n",
       "8            V8                   6\n",
       "16          V16                   3\n",
       "26          V26                   2\n",
       "3            V3                   2\n",
       "6            V6                   1\n",
       "22          V22                   1\n",
       "11          V11                   1\n",
       "13          V13                   1\n",
       "1            V1                   1\n",
       "24          V24                   0\n",
       "25          V25                   0\n",
       "27          V27                   0\n",
       "28          V28                   0\n",
       "23          V23                   0\n",
       "0          Time                   0\n",
       "21          V21                   0\n",
       "20          V20                   0\n",
       "18          V18                   0\n",
       "10          V10                   0\n",
       "9            V9                   0\n",
       "5            V5                   0\n",
       "2            V2                   0\n",
       "15          V15                   0"
      ]
     },
     "execution_count": 22,
     "metadata": {},
     "output_type": "execute_result"
    }
   ],
   "source": [
    "feature_imp_df"
   ]
  },
  {
   "cell_type": "code",
   "execution_count": 27,
   "id": "9c3e7505",
   "metadata": {
    "scrolled": true
   },
   "outputs": [
    {
     "data": {
      "text/plain": [
       "['V4', 'V14', 'V12', 'V17', 'V19', 'V7', 'Amount']"
      ]
     },
     "execution_count": 27,
     "metadata": {},
     "output_type": "execute_result"
    }
   ],
   "source": [
    "feature_imp_df[feature_imp_df[\"feature_importance\"]>=8][\"feature_name\"].to_list()\n",
    "# feature_imp_df[\"feature_name\"].to_list()"
   ]
  },
  {
   "cell_type": "markdown",
   "id": "c24fdd8d",
   "metadata": {},
   "source": [
    "##### 3. Using shap values"
   ]
  },
  {
   "cell_type": "code",
   "execution_count": 24,
   "id": "c6aabebf",
   "metadata": {},
   "outputs": [
    {
     "name": "stderr",
     "output_type": "stream",
     "text": [
      "C:\\Users\\vishalra\\Anaconda3\\envs\\fraud_detection\\lib\\site-packages\\tqdm\\auto.py:21: TqdmWarning: IProgress not found. Please update jupyter and ipywidgets. See https://ipywidgets.readthedocs.io/en/stable/user_install.html\n",
      "  from .autonotebook import tqdm as notebook_tqdm\n"
     ]
    }
   ],
   "source": [
    "import shap"
   ]
  },
  {
   "cell_type": "code",
   "execution_count": 25,
   "id": "4f9c9788",
   "metadata": {},
   "outputs": [
    {
     "name": "stderr",
     "output_type": "stream",
     "text": [
      "LightGBM binary classifier with TreeExplainer shap values output has changed to a list of ndarray\n"
     ]
    }
   ],
   "source": [
    "explainer = shap.TreeExplainer(model)\n",
    "shap_values = explainer.shap_values(X_val[X_train_Feat.columns])"
   ]
  },
  {
   "cell_type": "code",
   "execution_count": 26,
   "id": "178668bf",
   "metadata": {},
   "outputs": [
    {
     "data": {
      "image/png": "[encoded data removed]",
      "text/plain": [
       "<Figure size 800x950 with 1 Axes>"
      ]
     },
     "metadata": {},
     "output_type": "display_data"
    }
   ],
   "source": [
    "shap.summary_plot(shap_values, X_val[X_train_Feat.columns], plot_type=\"bar\")"
   ]
  },
  {
   "cell_type": "code",
   "execution_count": 30,
   "id": "8b3d325a",
   "metadata": {},
   "outputs": [],
   "source": [
    "features_to_keep = feature_imp_df[feature_imp_df[\"feature_importance\"]>=8][\"feature_name\"].to_list()"
   ]
  },
  {
   "cell_type": "code",
   "execution_count": 31,
   "id": "d7e43463",
   "metadata": {},
   "outputs": [
    {
     "data": {
      "text/plain": [
       "['V4', 'V14', 'V12', 'V17', 'V19', 'V7', 'Amount']"
      ]
     },
     "execution_count": 31,
     "metadata": {},
     "output_type": "execute_result"
    }
   ],
   "source": [
    "features_to_keep"
   ]
  },
  {
   "cell_type": "code",
   "execution_count": 32,
   "id": "e93099fe",
   "metadata": {},
   "outputs": [],
   "source": [
    "import matplotlib.pyplot as plt\n",
    "from sklearn.model_selection import StratifiedKFold\n",
    "from sklearn.metrics import roc_auc_score,f1_score,confusion_matrix,precision_score,recall_score,roc_curve"
   ]
  },
  {
   "cell_type": "markdown",
   "id": "c6043238",
   "metadata": {},
   "source": [
    "### Model Training "
   ]
  },
  {
   "cell_type": "markdown",
   "id": "940df9d5",
   "metadata": {},
   "source": [
    "1. Lightgbm\n",
    "2. XGboost\n",
    "3. Randomforest\n",
    "4. Isolation forest\n",
    "5. Local outlier factor"
   ]
  },
  {
   "cell_type": "markdown",
   "id": "324a6677",
   "metadata": {},
   "source": [
    "##### Lightgbm\n"
   ]
  },
  {
   "cell_type": "code",
   "execution_count": 33,
   "id": "0448008b",
   "metadata": {},
   "outputs": [],
   "source": [
    "X_train_features=X_train_org[features_to_keep]\n",
    "# X_val_features=X_val_org[features_to_keep]"
   ]
  },
  {
   "cell_type": "code",
   "execution_count": 34,
   "id": "f5f89c56",
   "metadata": {},
   "outputs": [],
   "source": [
    "kfolds = StratifiedKFold(5)\n",
    "current_f1_scores=[]\n",
    "roc_auc_scores_val=[]\n",
    "precision_score_val=[]\n",
    "recall_score_val=[]\n",
    "fpr_scores=[]\n",
    "tpr_scores=[]\n",
    "mean_roc_auc_scores_val = []\n",
    "mean_precision_scores_val = []\n",
    "mean_recall_scores_val = []\n",
    "mean_f1_scores_val = []"
   ]
  },
  {
   "cell_type": "code",
   "execution_count": 35,
   "id": "ec749946",
   "metadata": {},
   "outputs": [
    {
     "data": {
      "text/plain": [
       "['V4', 'V14', 'V12', 'V17', 'V19', 'V7', 'Amount']"
      ]
     },
     "execution_count": 35,
     "metadata": {},
     "output_type": "execute_result"
    }
   ],
   "source": [
    "features_to_keep"
   ]
  },
  {
   "cell_type": "code",
   "execution_count": 36,
   "id": "993fff33",
   "metadata": {
    "scrolled": true
   },
   "outputs": [],
   "source": [
    "for train_idx ,val_index in kfolds.split(X_train_features,y_train_org):\n",
    "#     model = lgb.LGBMClassifier(\n",
    "#                 verbose=-1,\n",
    "#                 objective='binary',\n",
    "#                 **initial_params\n",
    "#             )\n",
    "    model.fit(\n",
    "                X_train_features.iloc[train_idx],\n",
    "                y_train_org.iloc[train_idx],\n",
    "#                 eval_set=[(X_train.iloc[val_index], y_train.iloc[val_index])],\n",
    "                eval_metric=lgb_f1_score\n",
    "            )\n",
    "    y_pred=model.predict(X_train_features.iloc[val_index])\n",
    "    current_f1_scores.append(f1_score(y_train_org.iloc[val_index], y_pred))\n",
    "    tn, fp, fn, tp = confusion_matrix(y_train_org.iloc[val_index],y_pred).ravel()\n",
    "    roc_auc_scores_val.append(roc_auc_score(y_true=y_train_org.iloc[val_index], y_score=y_pred))\n",
    "    precision_score_val.append(precision_score(y_true=y_train_org.iloc[val_index],y_pred=y_pred))\n",
    "    recall_score_val.append(recall_score(y_true=y_train_org.iloc[val_index],y_pred=y_pred))\n",
    "    fpr_val, tpr_val, _ = roc_curve(y_true=y_train_org.iloc[val_index], y_score=y_pred)\n",
    "    fpr_scores.append(fpr_val)\n",
    "    tpr_scores.append(tpr_val)\n",
    "    \n",
    "    "
   ]
  },
  {
   "cell_type": "code",
   "execution_count": 37,
   "id": "fbd46c0a",
   "metadata": {},
   "outputs": [],
   "source": [
    "def plot_roc(fpr,tpr,roc_auc,color_ip):\n",
    "#     fpr,tpr,threshold=roc_curve(y_test,probs)\n",
    "#     roc_auc=auc(fpr,tpr)\n",
    "    print('ROC AUC=%0.2f'%roc_auc)\n",
    "    plt.plot(fpr,tpr,label='AUC=%0.2f'%roc_auc,color=color_ip)\n",
    "    plt.legend(loc='lower right')\n",
    "    plt.plot([0,1],[0,1],'b--')\n",
    "    plt.xlim([0,1])\n",
    "    plt.ylim([0,1.05])\n",
    "    plt.xlabel('False Positive Rate')\n",
    "    plt.ylabel('True Positive Rate')\n",
    "    plt.grid(True) \n",
    "#     plt.show()"
   ]
  },
  {
   "cell_type": "code",
   "execution_count": 39,
   "id": "2ae6b902",
   "metadata": {},
   "outputs": [
    {
     "name": "stdout",
     "output_type": "stream",
     "text": [
      "ROC AUC=0.87\n",
      "ROC AUC=0.91\n",
      "ROC AUC=0.90\n",
      "ROC AUC=0.89\n",
      "ROC AUC=0.90\n",
      "Mean ROC AUC score on validation data =0.90\n"
     ]
    },
    {
     "data": {
      "image/png": "[encoded data removed]",
      "text/plain": [
       "<Figure size 640x480 with 1 Axes>"
      ]
     },
     "metadata": {},
     "output_type": "display_data"
    }
   ],
   "source": [
    "color_list=[\"green\",\"red\",\"black\",\"yellow\",\"orange\"]\n",
    "for fpr_val,tpr_val,roc_auc_score,color in zip(fpr_scores,tpr_scores,roc_auc_scores_val,color_list):\n",
    "    plot_roc(fpr_val,tpr_val,roc_auc_score,color)\n",
    "    \n",
    "    \n",
    "print('Mean ROC AUC score on validation data =%0.2f'%np.mean(roc_auc_scores_val))"
   ]
  },
  {
   "cell_type": "code",
   "execution_count": 40,
   "id": "dadeaa07",
   "metadata": {},
   "outputs": [],
   "source": [
    "def print_metrics(f1_scores,recall_scores,precision_scores,dataset=\"validation\"):\n",
    "    print(\"F1 scores on \"+ dataset+\" data:\")\n",
    "    print(f1_scores)\n",
    "    print(\"-----------------------------------------------------\")\n",
    "    print(\"Recall scores on \"+ dataset+\" data:\")\n",
    "    print(recall_scores)\n",
    "    print(\"-----------------------------------------------------\")\n",
    "    print(\"Mean f1 score on \"+ dataset+\" data:\")\n",
    "    print(np.mean(f1_scores))\n",
    "\n",
    "    print(\"-----------------------------------------------------\")\n",
    "    print(\"Mean recall score on \"+ dataset+\" data:\")\n",
    "    print(np.mean(recall_scores))\n",
    "\n",
    "    print(\"-----------------------------------------------------\")\n",
    "    print(\"Mean precision score on \"+ dataset+\" data:\")\n",
    "    print(np.mean(precision_scores))"
   ]
  },
  {
   "cell_type": "code",
   "execution_count": 41,
   "id": "833e953d",
   "metadata": {
    "scrolled": true
   },
   "outputs": [
    {
     "name": "stdout",
     "output_type": "stream",
     "text": [
      "F1 scores on validation data:\n",
      "[0.64804469273743, 0.7514450867052023, 0.21122112211221122, 0.7126436781609196, 0.7032967032967032]\n",
      "-----------------------------------------------------\n",
      "Recall scores on validation data:\n",
      "[0.7435897435897436, 0.8227848101265823, 0.810126582278481, 0.7848101265822784, 0.810126582278481]\n",
      "-----------------------------------------------------\n",
      "Mean f1 score on validation data:\n",
      "0.6053302566024932\n",
      "-----------------------------------------------------\n",
      "Mean recall score on validation data:\n",
      "0.7942875689711132\n",
      "-----------------------------------------------------\n",
      "Mean precision score on validation data:\n",
      "0.5322359429860466\n"
     ]
    }
   ],
   "source": [
    "print_metrics(current_f1_scores,recall_score_val,precision_score_val,\"validation\")"
   ]
  },
  {
   "cell_type": "markdown",
   "id": "3c5efa87",
   "metadata": {},
   "source": [
    "###### On test Data"
   ]
  },
  {
   "cell_type": "code",
   "execution_count": 42,
   "id": "f997e2ba",
   "metadata": {},
   "outputs": [],
   "source": [
    "y_test_pred = model.predict(X_test_org[features_to_keep])\n",
    "print(confusion_matrix(y_test_org,y_test_pred))\n",
    "print(\"F1 score on Test data:\")\n",
    "print(f1_score(y_test_org,y_test_pred))\n",
    "print(\"-----------------------------------------------------\")\n",
    "print(\"Recall score on Test data:\")\n",
    "print(recall_score(y_test_org,y_test_pred))\n",
    "print(\"-----------------------------------------------------\")\n",
    "print(\"Precision score on Test data:\")\n",
    "print(precision_score(y_test_org,y_test_pred))"
   ]
  },
  {
   "cell_type": "code",
   "execution_count": 80,
   "id": "baaa4518",
   "metadata": {
    "scrolled": true
   },
   "outputs": [
    {
     "data": {
      "text/plain": [
       "array([[56811,    53],\n",
       "       [   16,    82]], dtype=int64)"
      ]
     },
     "execution_count": 80,
     "metadata": {},
     "output_type": "execute_result"
    }
   ],
   "source": []
  },
  {
   "cell_type": "code",
   "execution_count": 43,
   "id": "b4b4838d",
   "metadata": {},
   "outputs": [
    {
     "name": "stdout",
     "output_type": "stream",
     "text": [
      "F1 score on Test data:\n",
      "0.703862660944206\n",
      "-----------------------------------------------------\n",
      "Recall score on Test data:\n",
      "0.8367346938775511\n",
      "-----------------------------------------------------\n",
      "Precision score on Test data:\n",
      "0.6074074074074074\n"
     ]
    }
   ],
   "source": []
  },
  {
   "cell_type": "code",
   "execution_count": null,
   "id": "8cd79d6a",
   "metadata": {},
   "outputs": [],
   "source": []
  },
  {
   "cell_type": "markdown",
   "id": "94ed63c8",
   "metadata": {},
   "source": [
    "### 2. Isolation forest"
   ]
  },
  {
   "cell_type": "code",
   "execution_count": 44,
   "id": "4f240966",
   "metadata": {},
   "outputs": [],
   "source": [
    "from sklearn.ensemble import IsolationForest\n",
    "from sklearn.model_selection import GridSearchCV"
   ]
  },
  {
   "cell_type": "code",
   "execution_count": 45,
   "id": "99937fc5",
   "metadata": {},
   "outputs": [],
   "source": [
    "outlier_fraction = len(df_org_data[df_org_data[\"Class\"]==1])/float(len(df_org_data[df_org_data[\"Class\"]==0]))"
   ]
  },
  {
   "cell_type": "code",
   "execution_count": 46,
   "id": "18e8593b",
   "metadata": {},
   "outputs": [],
   "source": [
    "params_scope = {\n",
    "'n_estimators': list(range(10,500,50)),\n",
    "# 'max_features': list(range(2, 15, 3)),\n",
    "# 'max_samples':['auto',len(X_train_org)], \n",
    "'contamination':[outlier_fraction]\n",
    "}"
   ]
  },
  {
   "cell_type": "code",
   "execution_count": 62,
   "id": "483c13ed",
   "metadata": {},
   "outputs": [],
   "source": [
    "model_iso = IsolationForest(random_state=42, n_estimators=10)"
   ]
  },
  {
   "cell_type": "code",
   "execution_count": 112,
   "id": "3397c2e3",
   "metadata": {},
   "outputs": [],
   "source": [
    "# model_iso.fit(X_train[features_to_keep])\n",
    "# y_pred = model_iso.predict(X_train[features_to_keep])\n",
    "# y_pred[y_pred==1]=0\n",
    "# y_pred[y_pred==-1]=1\n",
    "# print(confusion_matrix(y_train,y_pred))\n",
    "# print(f1_score(y_train,y_pred))\n",
    "# print(recall_score(y_train,y_pred))\n",
    "# print(precision_score(y_train,y_pred))"
   ]
  },
  {
   "cell_type": "code",
   "execution_count": 103,
   "id": "e94de558",
   "metadata": {},
   "outputs": [],
   "source": [
    "from sklearn import metrics\n",
    "kfolds = StratifiedKFold(5)\n",
    "current_f1_scores=[]\n",
    "roc_auc_scores_val=[]\n",
    "precision_score_val=[]\n",
    "recall_score_val=[]\n",
    "fpr_scores=[]\n",
    "tpr_scores=[]\n",
    "mean_roc_auc_scores_val = []\n",
    "mean_precision_scores_val = []\n",
    "mean_recall_scores_val = []\n",
    "mean_f1_scores_val = []\n",
    "\n",
    "for train_idx ,val_index in kfolds.split(X_train_features,y_train_org):\n",
    "    model_iso.fit(X_train[features_to_keep])\n",
    "#     y_pred=model.predict(X_train_features.iloc[val_index])\n",
    "    y_pred = model_iso.predict(X_train_features.iloc[val_index])\n",
    "    y_pred[y_pred==1]=0\n",
    "    y_pred[y_pred==-1]=1\n",
    "    \n",
    "    current_f1_scores.append(f1_score(y_train_org.iloc[val_index], y_pred))\n",
    "    tn, fp, fn, tp = confusion_matrix(y_train_org.iloc[val_index],y_pred).ravel()\n",
    "    roc_auc_scores_val.append(metrics.roc_auc_score(y_train_org.iloc[val_index],y_pred))\n",
    "    precision_score_val.append(precision_score(y_true=y_train_org.iloc[val_index],y_pred=y_pred))\n",
    "    recall_score_val.append(recall_score(y_true=y_train_org.iloc[val_index],y_pred=y_pred))\n",
    "    fpr_val, tpr_val, _ = roc_curve(y_true=y_train_org.iloc[val_index], y_score=y_pred)\n",
    "    fpr_scores.append(fpr_val)\n",
    "    tpr_scores.append(tpr_val)\n",
    "    \n"
   ]
  },
  {
   "cell_type": "code",
   "execution_count": 106,
   "id": "d8862b47",
   "metadata": {
    "scrolled": true
   },
   "outputs": [
    {
     "name": "stdout",
     "output_type": "stream",
     "text": [
      "ROC AUC=0.88\n",
      "ROC AUC=0.94\n",
      "ROC AUC=0.92\n",
      "ROC AUC=0.92\n",
      "ROC AUC=0.91\n",
      "Mean ROC AUC score on validation data =0.91\n"
     ]
    },
    {
     "data": {
      "image/png": "[encoded data removed]",
      "text/plain": [
       "<Figure size 640x480 with 1 Axes>"
      ]
     },
     "metadata": {},
     "output_type": "display_data"
    }
   ],
   "source": [
    "color_list=[\"green\",\"red\",\"black\",\"yellow\",\"orange\"]\n",
    "for fpr_val,tpr_val,roc_auc_score,color in zip(fpr_scores,tpr_scores,roc_auc_scores_val,color_list):\n",
    "    plot_roc(fpr_val,tpr_val,roc_auc_score,color)\n",
    "    \n",
    "    \n",
    "print('Mean ROC AUC score on validation data =%0.2f'%np.mean(roc_auc_scores_val))"
   ]
  },
  {
   "cell_type": "code",
   "execution_count": 107,
   "id": "88562d87",
   "metadata": {},
   "outputs": [
    {
     "name": "stdout",
     "output_type": "stream",
     "text": [
      "F1 scores on validation data:\n",
      "[0.037934053107674344, 0.043741007194244605, 0.0400890868596882, 0.04024594745667971, 0.04079287561045677]\n",
      "-----------------------------------------------------\n",
      "Recall scores on validation data:\n",
      "[0.8333333333333334, 0.9620253164556962, 0.9113924050632911, 0.9113924050632911, 0.8987341772151899]\n",
      "-----------------------------------------------------\n",
      "Mean f1 score on validation data:\n",
      "0.04056059404574873\n",
      "-----------------------------------------------------\n",
      "Mean recall score on validation data:\n",
      "0.9033755274261603\n",
      "-----------------------------------------------------\n",
      "Mean precision score on validation data:\n",
      "0.020746147171313838\n"
     ]
    }
   ],
   "source": [
    "print_metrics(current_f1_scores,recall_score_val,precision_score_val,\"validation\")"
   ]
  },
  {
   "cell_type": "markdown",
   "id": "1b875b9d",
   "metadata": {},
   "source": [
    "###### On test Data"
   ]
  },
  {
   "cell_type": "code",
   "execution_count": 111,
   "id": "b88db2c5",
   "metadata": {},
   "outputs": [
    {
     "name": "stdout",
     "output_type": "stream",
     "text": [
      "[[52663  4201]\n",
      " [    8    90]]\n",
      "F1 score on Test data:\n",
      "0.04101161995898838\n",
      "-----------------------------------------------------\n",
      "Recall score on Test data:\n",
      "0.9183673469387755\n",
      "-----------------------------------------------------\n",
      "Precision score on Test data:\n",
      "0.020974131903985085\n"
     ]
    }
   ],
   "source": [
    "y_test_pred = model_iso.predict(X_test_org[features_to_keep])\n",
    "y_test_pred[y_test_pred==1]=0\n",
    "y_test_pred[y_test_pred==-1]=1\n",
    "print(confusion_matrix(y_test_org,y_test_pred))\n",
    "print(\"F1 score on Test data:\")\n",
    "print(f1_score(y_test_org,y_test_pred))\n",
    "print(\"-----------------------------------------------------\")\n",
    "print(\"Recall score on Test data:\")\n",
    "print(recall_score(y_test_org,y_test_pred))\n",
    "print(\"-----------------------------------------------------\")\n",
    "print(\"Precision score on Test data:\")\n",
    "print(precision_score(y_test_org,y_test_pred))"
   ]
  },
  {
   "cell_type": "code",
   "execution_count": null,
   "id": "d06f8a90",
   "metadata": {},
   "outputs": [],
   "source": []
  }
 ],
 "metadata": {
  "kernelspec": {
   "display_name": "fraud_detection",
   "language": "python",
   "name": "fraud_detection"
  },
  "language_info": {
   "codemirror_mode": {
    "name": "ipython",
    "version": 3
   },
   "file_extension": ".py",
   "mimetype": "text/x-python",
   "name": "python",
   "nbconvert_exporter": "python",
   "pygments_lexer": "ipython3",
   "version": "3.9.12"
  }
 },
 "nbformat": 4,
 "nbformat_minor": 5
}
